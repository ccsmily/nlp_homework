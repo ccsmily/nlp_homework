{
 "cells": [
  {
   "cell_type": "markdown",
   "metadata": {},
   "source": [
    "## Lecture-03 Gradient Descent and Dymanic Programming"
   ]
  },
  {
   "cell_type": "markdown",
   "metadata": {},
   "source": [
    "In this week, we need complete following tasks:\n",
    "+ Re-review the course online programming; \n",
    "+ Choose 1 - 2 books which you interested and keep reading; \n",
    "+ Answer the review questions\n",
    "+ Prepare the basic requirement of our 1st project. "
   ]
  },
  {
   "cell_type": "markdown",
   "metadata": {},
   "source": [
    "### Part I Review the online programming. "
   ]
  },
  {
   "cell_type": "markdown",
   "metadata": {},
   "source": [
    "#### 动态规划"
   ]
  },
  {
   "cell_type": "code",
   "execution_count": 1,
   "metadata": {},
   "outputs": [],
   "source": [
    "original_price = [1, 5, 8, 9, 10, 17, 17, 20, 24, 30, 35]"
   ]
  },
  {
   "cell_type": "code",
   "execution_count": 3,
   "metadata": {},
   "outputs": [],
   "source": [
    "from collections import defaultdict"
   ]
  },
  {
   "cell_type": "code",
   "execution_count": 4,
   "metadata": {},
   "outputs": [],
   "source": [
    "price_obj = defaultdict(int) # 初始化价格的obj"
   ]
  },
  {
   "cell_type": "code",
   "execution_count": 122,
   "metadata": {},
   "outputs": [],
   "source": [
    "for (i, p) in enumerate(original_price): # 循环已知数组得到价格的obj, 注意key需要加1，因为是从1开始的\n",
    "    price_obj[i+1] = p"
   ]
  },
  {
   "cell_type": "markdown",
   "metadata": {},
   "source": [
    "$r(n) = max(p_n, r(1)+r(n-1), r(2)+r(n-2),...,r(n-1)+r(1))$"
   ]
  },
  {
   "cell_type": "code",
   "execution_count": 123,
   "metadata": {},
   "outputs": [],
   "source": [
    "def r(n): # 根据以上等式得到的r(n)的递归函数\n",
    "    return max([price_obj[n]] + [r(i) + r(n-i) for i in range(1,n)])"
   ]
  },
  {
   "cell_type": "code",
   "execution_count": 124,
   "metadata": {},
   "outputs": [
    {
     "data": {
      "text/plain": [
       "36"
      ]
     },
     "execution_count": 124,
     "metadata": {},
     "output_type": "execute_result"
    }
   ],
   "source": [
    "r(12) # 可以得到结果，但是比较慢，而且数据越大越难计算"
   ]
  },
  {
   "cell_type": "markdown",
   "metadata": {},
   "source": [
    "##### 动态规划，考虑改变r(n)函数"
   ]
  },
  {
   "cell_type": "markdown",
   "metadata": {},
   "source": [
    "方法一：利用装饰器和缓存变量"
   ]
  },
  {
   "cell_type": "code",
   "execution_count": 125,
   "metadata": {},
   "outputs": [],
   "source": [
    "from functools import wraps"
   ]
  },
  {
   "cell_type": "markdown",
   "metadata": {},
   "source": [
    "1. 装饰器简单例子"
   ]
  },
  {
   "cell_type": "code",
   "execution_count": 126,
   "metadata": {},
   "outputs": [],
   "source": [
    "def decoration_example(f): # 装饰器的简单例子\n",
    "    @wraps(f)\n",
    "    def wrap(n):\n",
    "        print('I\\'m a wrapper')\n",
    "        return f(n)\n",
    "    return wrap"
   ]
  },
  {
   "cell_type": "code",
   "execution_count": 127,
   "metadata": {},
   "outputs": [
    {
     "name": "stdout",
     "output_type": "stream",
     "text": [
      "I'm a wrapper\n"
     ]
    },
    {
     "data": {
      "text/plain": [
       "110"
      ]
     },
     "execution_count": 127,
     "metadata": {},
     "output_type": "execute_result"
    }
   ],
   "source": [
    "@decoration_example # @语法糖，相当于sum_10 = decoration_example(sum_10)\n",
    "def sum_10(n):\n",
    "    return n + 10\n",
    "sum_10(100)"
   ]
  },
  {
   "cell_type": "markdown",
   "metadata": {},
   "source": [
    "2. 利用装饰器原理重写r(n)"
   ]
  },
  {
   "cell_type": "code",
   "execution_count": 128,
   "metadata": {},
   "outputs": [],
   "source": [
    "def price_using_memory_decoration(f): # 加个缓存solutions，计算过的f会存在solutions里\n",
    "    solutions = {}\n",
    "    @wraps(f)\n",
    "    def wrap(n):\n",
    "        if n in solutions:\n",
    "            return solutions[n]\n",
    "        else:\n",
    "            solutions[n] = f(n)\n",
    "            return f(n)\n",
    "    return wrap"
   ]
  },
  {
   "cell_type": "code",
   "execution_count": 129,
   "metadata": {},
   "outputs": [],
   "source": [
    "@price_using_memory_decoration # 语法糖\n",
    "def r(n):\n",
    "    return max([price_obj[n]] + [r(i)+r(n-i) for i in range(1,n)])"
   ]
  },
  {
   "cell_type": "code",
   "execution_count": 130,
   "metadata": {},
   "outputs": [
    {
     "data": {
      "text/plain": [
       "118"
      ]
     },
     "execution_count": 130,
     "metadata": {},
     "output_type": "execute_result"
    }
   ],
   "source": [
    "r(38) # 因为用到了装饰器和缓存，所以计算时间大幅缩小"
   ]
  },
  {
   "cell_type": "markdown",
   "metadata": {},
   "source": [
    "3. 动态规划，计算最佳结果的分配方法"
   ]
  },
  {
   "cell_type": "code",
   "execution_count": 154,
   "metadata": {},
   "outputs": [],
   "source": [
    "solution_splits = defaultdict(set)"
   ]
  },
  {
   "cell_type": "code",
   "execution_count": 162,
   "metadata": {},
   "outputs": [],
   "source": [
    "@price_using_memory_decoration # 语法糖\n",
    "def r_splits(n):\n",
    "    list_ = [((0,n), price_obj[n])] + [((i,n-i), r_splits(i) + r_splits(n-i)) for i in range(1,n)]\n",
    "    splits, p = max(list_, key = lambda x: x[1])\n",
    "    solution_splits[n] = splits\n",
    "    return p"
   ]
  },
  {
   "cell_type": "code",
   "execution_count": 163,
   "metadata": {},
   "outputs": [],
   "source": [
    "def parse_solution(n):\n",
    "    if solution_splits[n][0] == 0:\n",
    "        return [solution_splits[n][1]]\n",
    "    return parse_solution(solution_splits[n][0]) + parse_solution(solution_splits[n][1])"
   ]
  },
  {
   "cell_type": "code",
   "execution_count": 168,
   "metadata": {},
   "outputs": [
    {
     "data": {
      "text/plain": [
       "743"
      ]
     },
     "execution_count": 168,
     "metadata": {},
     "output_type": "execute_result"
    }
   ],
   "source": [
    "r_splits(234)"
   ]
  },
  {
   "cell_type": "code",
   "execution_count": 169,
   "metadata": {},
   "outputs": [
    {
     "data": {
      "text/plain": [
       "[3,\n",
       " 11,\n",
       " 11,\n",
       " 11,\n",
       " 11,\n",
       " 11,\n",
       " 11,\n",
       " 11,\n",
       " 11,\n",
       " 11,\n",
       " 11,\n",
       " 11,\n",
       " 11,\n",
       " 11,\n",
       " 11,\n",
       " 11,\n",
       " 11,\n",
       " 11,\n",
       " 11,\n",
       " 11,\n",
       " 11,\n",
       " 11]"
      ]
     },
     "execution_count": 169,
     "metadata": {},
     "output_type": "execute_result"
    }
   ],
   "source": [
    "parse_solution(234)"
   ]
  },
  {
   "cell_type": "markdown",
   "metadata": {},
   "source": [
    "### Part 2: change loss function from $loss = \\frac{1}{n}\\sum{(y_i - \\hat(y_i))^2}$ to $loss = \\frac{1}{n}\\sum{|y_i - \\hat{y_i}|}$, and using your mathmatical knowledge to get the right partial formual. Implemen the gradient descent code."
   ]
  },
  {
   "cell_type": "markdown",
   "metadata": {},
   "source": [
    "### Part 3: Finish the Solution Parse Part of Edit-Distance"
   ]
  },
  {
   "cell_type": "code",
   "execution_count": 157,
   "metadata": {},
   "outputs": [],
   "source": [
    "from functools import wraps"
   ]
  },
  {
   "cell_type": "code",
   "execution_count": 158,
   "metadata": {},
   "outputs": [],
   "source": [
    "def distance_decoration(f):\n",
    "    memory = {}\n",
    "    @wraps(f)\n",
    "    def wrap(s1, s2):\n",
    "        if (s1,s2) in memory:\n",
    "            return memory[(s1,s2)]\n",
    "        else:\n",
    "            memory[(s1,s2)] = f(s1, s2)\n",
    "            return f(s1, s2)\n",
    "    return wrap"
   ]
  },
  {
   "cell_type": "code",
   "execution_count": 159,
   "metadata": {},
   "outputs": [],
   "source": [
    "solution = {}\n",
    "@distance_decoration\n",
    "def distance(string1, string2): # edit distance函数\n",
    "    if len(string1) == 0: return len(string2)\n",
    "    if len(string2) == 0: return len(string1)\n",
    "    \n",
    "    candidates = [\n",
    "        (distance(string1[:-1], string2) + 1, 'DEL {}'.format(string1[-1] + '_' + str(len(string1)-1))),\n",
    "        (distance(string1, string2[:-1]) + 1, 'ADD {}'.format(string2[-1] + '_' + str(len(string2)-1)))\n",
    "    ]\n",
    "    if string1[-1] == string2[-1]:\n",
    "        candidates.append((distance(string1[:-1], string2[:-1]), ''))\n",
    "    else:\n",
    "        candidates.append((distance(string1[:-1], string2[:-1]) + 1, 'REPLACE {}=>{}'.format(string1[-1]+ '_' + str(len(string1)-1), string2[-1])))\n",
    "    \n",
    "    min_distance, operation = min(candidates, key=lambda x: x[0])\n",
    "    solution[(string1, string2)] = operation\n",
    "    return min_distance\n",
    "\n",
    "def parse_solution(str1, str2): # edit distance显示各步步骤\n",
    "    if len(str1) == 0:\n",
    "        arr = []\n",
    "        for (idx,i) in enumerate(str2[::-1]):\n",
    "            arr.append('ADD {}'.format(i + '_' + str(len(str2) - 1 - idx)))\n",
    "        return arr\n",
    "    if len(str2) == 0:\n",
    "        arr = []\n",
    "        for (idx,i) in enumerate(str1[::-1]):\n",
    "            arr.append('DELETE {}'.format(i + '_' + str(len(str1) - 1 - idx)))\n",
    "        return arr\n",
    "    operation_text = solution[(str1, str2)]\n",
    "    operation = operation_text.split(' ')[0]\n",
    "    if operation == 'ADD':\n",
    "        return [operation_text] + parse_solution(str1, str2[:-1]) \n",
    "    elif operation == 'DEL':\n",
    "        return [operation_text] + parse_solution(str1[:-1], str2)\n",
    "    elif operation == 'REPLACE':\n",
    "        return [operation_text] + parse_solution(str1[:-1], str2[:-1])\n",
    "    else:\n",
    "        return parse_solution(str1[:-1], str2[:-1])"
   ]
  },
  {
   "cell_type": "code",
   "execution_count": 160,
   "metadata": {},
   "outputs": [
    {
     "data": {
      "text/plain": [
       "['DELETE d_3', 'DELETE f_2', 'DELETE c_1', 'DELETE d_0']"
      ]
     },
     "execution_count": 160,
     "metadata": {},
     "output_type": "execute_result"
    }
   ],
   "source": [
    "d = distance('dcfdg', 'g')\n",
    "parse_solution('dcfdg', 'g')"
   ]
  },
  {
   "cell_type": "code",
   "execution_count": 161,
   "metadata": {},
   "outputs": [
    {
     "data": {
      "text/plain": [
       "['DEL i_2', 'ADD i_1']"
      ]
     },
     "execution_count": 161,
     "metadata": {},
     "output_type": "execute_result"
    }
   ],
   "source": [
    "distance('bei', 'bie')\n",
    "parse_solution('bei', 'bie')"
   ]
  },
  {
   "cell_type": "code",
   "execution_count": 162,
   "metadata": {},
   "outputs": [
    {
     "data": {
      "text/plain": [
       "['DEL e_2', 'ADD e_1']"
      ]
     },
     "execution_count": 162,
     "metadata": {},
     "output_type": "execute_result"
    }
   ],
   "source": [
    "distance( 'bie','bei')\n",
    "parse_solution( 'bie','bei')"
   ]
  },
  {
   "cell_type": "markdown",
   "metadata": {},
   "source": [
    "### Part 4 Choose 1 - 2 books to keep reading: \n",
    "\n",
    "+ SICP, Structure and Interpretation of Computer Programming. \n",
    "+ Introduction to Algorithms \n",
    "+ Artificial Intelligence A Modern Approach (3rd Edition) \n",
    "+ Code Complete 2 \n",
    "+ Programming Pearls \n",
    "+ Deep Learning\n",
    "+ 黑客与画家\n",
    "+ 数学之美\n",
    "+ Fluent Python\n",
    "+ Hands on Tensorflow\n",
    "+ Conference: NIPS_ ICML_ ICLR_ ACL_ AAAI\n",
    "\n",
    "> most books you may find in our github: https://github.com/Computing-Intelligence/References"
   ]
  },
  {
   "cell_type": "markdown",
   "metadata": {},
   "source": [
    "## Part 5-1: review machine learning"
   ]
  },
  {
   "cell_type": "markdown",
   "metadata": {},
   "source": [
    "1. Why do we use Derivative / Gredient to fit a target function?¶"
   ]
  },
  {
   "cell_type": "markdown",
   "metadata": {},
   "source": [
    "Ans:"
   ]
  },
  {
   "cell_type": "markdown",
   "metadata": {},
   "source": [
    "2. In the words 'Gredient Descent', what's the Gredient and what's the Descent?¶"
   ]
  },
  {
   "cell_type": "markdown",
   "metadata": {},
   "source": [
    "Ans:"
   ]
  },
  {
   "cell_type": "markdown",
   "metadata": {},
   "source": [
    "\n",
    "3. What's the advantages of the 3rd gradient descent method compared to the previous methods?"
   ]
  },
  {
   "cell_type": "markdown",
   "metadata": {},
   "source": [
    "Ans:"
   ]
  },
  {
   "cell_type": "markdown",
   "metadata": {},
   "source": [
    "4. Using the simple words to describe: What's the machine leanring.¶"
   ]
  },
  {
   "cell_type": "markdown",
   "metadata": {},
   "source": [
    "Ans:"
   ]
  },
  {
   "cell_type": "markdown",
   "metadata": {},
   "source": [
    "### Part 5: Answer following questions: "
   ]
  },
  {
   "cell_type": "markdown",
   "metadata": {},
   "source": [
    "1. Why do we need dynamic programming? What's the difference of dynamic programming and previous talked `search` problme? "
   ]
  },
  {
   "cell_type": "markdown",
   "metadata": {},
   "source": [
    "2. Why do we still need dynamic programming? Why not we train a machine learning to fit a function which could get the `right` answer based on inputs?"
   ]
  },
  {
   "cell_type": "markdown",
   "metadata": {},
   "source": [
    "3. Can you catch up at least 3 problems which could solved by Dynamic Programming? "
   ]
  },
  {
   "cell_type": "markdown",
   "metadata": {},
   "source": [
    "4. Can you catch up at least 3 problems wich could sloved by Edit Distance? "
   ]
  },
  {
   "cell_type": "markdown",
   "metadata": {},
   "source": [
    "5. Please summarize the three main features of Dynamic Programming, and make a concise explain for each feature. "
   ]
  },
  {
   "cell_type": "markdown",
   "metadata": {},
   "source": [
    "6. What's the disadvantages of Dynamic Programming? (You may need search by yourself in Internet)"
   ]
  },
  {
   "cell_type": "markdown",
   "metadata": {},
   "source": [
    "## Part 6 Preparation of Project-01"
   ]
  },
  {
   "cell_type": "markdown",
   "metadata": {},
   "source": [
    "1. Using python Flask or Bottle to finish your first simple web app:\n",
    "> https://bottlepy.org/\n",
    "\n",
    "2. Learn what's the SQL, and try some simple SQL operations:\n",
    "> https://www.w3schools.com/sql/sql_intro.asp\n",
    "\n",
    "3. Learn what's the HTML ( *ONLY* need to know the basic things)\n",
    "> https://getbootstrap.com/; https://www.w3schools.com/html/"
   ]
  },
  {
   "cell_type": "markdown",
   "metadata": {},
   "source": [
    "### (Optinal) Finish the k-person-salesman problem:"
   ]
  },
  {
   "cell_type": "code",
   "execution_count": 16,
   "metadata": {},
   "outputs": [],
   "source": [
    "import random\n",
    "import math\n",
    "import matplotlib.pylab as plt"
   ]
  },
  {
   "cell_type": "code",
   "execution_count": 17,
   "metadata": {},
   "outputs": [],
   "source": [
    "latitudes = [random.randint(-100, 100) for _ in range(20)]\n",
    "longitude = [random.randint(-100, 100) for _ in range(20)]"
   ]
  },
  {
   "cell_type": "code",
   "execution_count": 18,
   "metadata": {},
   "outputs": [
    {
     "data": {
      "text/plain": [
       "<matplotlib.collections.PathCollection at 0x163613b5be0>"
      ]
     },
     "execution_count": 18,
     "metadata": {},
     "output_type": "execute_result"
    },
    {
     "data": {
      "image/png": "[encoded data removed]",
      "text/plain": [
       "<Figure size 432x288 with 1 Axes>"
      ]
     },
     "metadata": {
      "needs_background": "light"
     },
     "output_type": "display_data"
    }
   ],
   "source": [
    "plt.scatter(latitudes, longitude)"
   ]
  },
  {
   "cell_type": "markdown",
   "metadata": {},
   "source": [
    "给定一个初始点 𝑃, 已经 𝑘个车辆，如何从该点出发，经这 k 个车辆经过所以的点全部一次，而且所走过的路程最短?\n",
    "\n",
    "例如："
   ]
  },
  {
   "cell_type": "code",
   "execution_count": 19,
   "metadata": {},
   "outputs": [],
   "source": [
    "chosen_p = (-50, 10)"
   ]
  },
  {
   "cell_type": "code",
   "execution_count": 20,
   "metadata": {},
   "outputs": [],
   "source": [
    "import matplotlib.pyplot as plt"
   ]
  },
  {
   "cell_type": "code",
   "execution_count": 21,
   "metadata": {
    "scrolled": true
   },
   "outputs": [
    {
     "data": {
      "text/plain": [
       "<matplotlib.collections.PathCollection at 0x16361420fd0>"
      ]
     },
     "execution_count": 21,
     "metadata": {},
     "output_type": "execute_result"
    },
    {
     "data": {
      "image/png": "[encoded data removed]",
      "text/plain": [
       "<Figure size 432x288 with 1 Axes>"
      ]
     },
     "metadata": {
      "needs_background": "light"
     },
     "output_type": "display_data"
    }
   ],
   "source": [
    "plt.scatter(latitudes, longitude)\n",
    "plt.scatter([chosen_p[0]], [chosen_p[1]], color='r')"
   ]
  },
  {
   "cell_type": "code",
   "execution_count": 22,
   "metadata": {},
   "outputs": [],
   "source": [
    "class Travelling:\n",
    "    def __init__(self, lat, long, start_node):\n",
    "        self.points = [start_node] + [(x,y) for (x,y) in zip(lat, long)]\n",
    "        self.start_node = start_node\n",
    "        self.solutionArr = [[(0,0)] * (2**(len(self.points)-1)) for i in range(len(self.points))]\n",
    "    def parseSetToNum(self, sets):\n",
    "        res = 0\n",
    "        for s in sets:\n",
    "            res += 2**(s-1)\n",
    "        return res\n",
    "    def getDistance(self, p1, p2):\n",
    "        return math.sqrt((p2[0]- p1[0])**2 + (p2[1] - p1[0])**2)\n",
    "    def tsp(self):\n",
    "        s = self.start_node\n",
    "        cities = list(range(1, len(self.points))) # start_node是第0点\n",
    "        return self.resolve(s, cities)\n",
    "    def resolve(self, start, nodeIndexes):\n",
    "        if(len(nodeIndexes) == 0):\n",
    "            return self.getDistance(start, self.start_node)\n",
    "        nodesNum = self.parseSetToNum(nodeIndexes)\n",
    "        sIndex = self.points.index(start)\n",
    "        if self.solutionArr[sIndex][nodesNum][0] != 0:\n",
    "            return self.solutionArr[sIndex][nodesNum][0]\n",
    "        candidates = []\n",
    "        for (index,i) in enumerate(nodeIndexes):            \n",
    "            copy = nodeIndexes[:]\n",
    "            copy.pop(index)\n",
    "            candidates.append((self.getDistance(start, self.points[i]) + self.resolve(self.points[i], copy), i))\n",
    "        d,next_node = min(candidates, key=lambda x: x[0])\n",
    "        self.solutionArr[self.points.index(start)][self.parseSetToNum(nodeIndexes)] = (d, next_node)\n",
    "        return d"
   ]
  },
  {
   "cell_type": "code",
   "execution_count": 26,
   "metadata": {},
   "outputs": [
    {
     "data": {
      "text/plain": [
       "226.493883765879"
      ]
     },
     "execution_count": 26,
     "metadata": {},
     "output_type": "execute_result"
    }
   ],
   "source": [
    "l1 = latitudes[:3] # 电脑配置问题，只取三个点验证\n",
    "l2 = longitude[:3]\n",
    "t = Travelling(l1, l2, chosen_p)\n",
    "t.tsp()"
   ]
  },
  {
   "cell_type": "code",
   "execution_count": 51,
   "metadata": {},
   "outputs": [
    {
     "data": {
      "text/plain": [
       "[0, 3, 1, 2, 0]"
      ]
     },
     "execution_count": 51,
     "metadata": {},
     "output_type": "execute_result"
    }
   ],
   "source": [
    "lists = [t.start_node] + t.points\n",
    "start = lists.index(t.start_node)\n",
    "nodes = list(range(len(lists)))\n",
    "arr = [start] # 所有经过点的数组按先后顺序的集合(为下面可视化做准备)\n",
    "def not_zeros(indexes):\n",
    "    for i in indexes:\n",
    "        if i != 0:\n",
    "            return True\n",
    "    return False\n",
    "while not_zeros(nodes):\n",
    "    nodes[start] = 0\n",
    "    copy = nodes[:]\n",
    "    copy_ =[s for s in copy if s != 0]\n",
    "    next_node = t.solutionArr[start][t.parseSetToNum(copy_)][1]\n",
    "    arr.append(next_node)   \n",
    "    start = next_node\n",
    "arr"
   ]
  },
  {
   "cell_type": "code",
   "execution_count": 54,
   "metadata": {},
   "outputs": [
    {
     "data": {
      "text/plain": [
       "<matplotlib.collections.PathCollection at 0x163615ff828>"
      ]
     },
     "execution_count": 54,
     "metadata": {},
     "output_type": "execute_result"
    },
    {
     "data": {
      "image/png": "[encoded data removed]",
      "text/plain": [
       "<Figure size 432x288 with 1 Axes>"
      ]
     },
     "metadata": {
      "needs_background": "light"
     },
     "output_type": "display_data"
    }
   ],
   "source": [
    "plt.scatter(l1, l2)\n",
    "plt.scatter([chosen_p[0]], [chosen_p[1]], color='r')"
   ]
  },
  {
   "cell_type": "code",
   "execution_count": 56,
   "metadata": {},
   "outputs": [
    {
     "data": {
      "text/plain": [
       "<matplotlib.collections.PathCollection at 0x163616c3be0>"
      ]
     },
     "execution_count": 56,
     "metadata": {},
     "output_type": "execute_result"
    },
    {
     "data": {
      "image/png": "[encoded data removed]",
      "text/plain": [
       "<Figure size 432x288 with 1 Axes>"
      ]
     },
     "metadata": {
      "needs_background": "light"
     },
     "output_type": "display_data"
    }
   ],
   "source": [
    "real_l1 = [lists[i][0] for i in arr]\n",
    "real_l2 = [lists[i][1] for i in arr]\n",
    "plt.plot(real_l1,real_l2)\n",
    "plt.scatter(l1, l2)\n",
    "plt.scatter([chosen_p[0]], [chosen_p[1]], color='r')"
   ]
  },
  {
   "cell_type": "markdown",
   "metadata": {},
   "source": [
    "shuro"
   ]
  }
 ],
 "metadata": {
  "kernelspec": {
   "display_name": "Python 3",
   "language": "python",
   "name": "python3"
  },
  "language_info": {
   "codemirror_mode": {
    "name": "ipython",
    "version": 3
   },
   "file_extension": ".py",
   "mimetype": "text/x-python",
   "name": "python",
   "nbconvert_exporter": "python",
   "pygments_lexer": "ipython3",
   "version": "3.7.3"
  }
 },
 "nbformat": 4,
 "nbformat_minor": 2
}
