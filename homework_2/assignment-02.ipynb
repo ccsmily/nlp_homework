{
 "cells": [
  {
   "cell_type": "markdown",
   "metadata": {},
   "source": [
    "### 1-爬取数据"
   ]
  },
  {
   "cell_type": "code",
   "execution_count": 1,
   "metadata": {},
   "outputs": [],
   "source": [
    "import requests\n",
    "def get_html(url):\n",
    "    headers ={\"User-Agent\":\"Mozilla/5.0 (Windows NT 6.1; WOW64) AppleWebKit/535.1 (KHTML, like Gecko) Chrome/14.0.835.163 Safari/535.1\"}\n",
    "    r = requests.get(url, headers = headers)\n",
    "    r.encoding = 'utf-8'\n",
    "    return r.text"
   ]
  },
  {
   "cell_type": "code",
   "execution_count": 2,
   "metadata": {},
   "outputs": [],
   "source": [
    "# 武汉地铁\n",
    "text = get_html('https://baike.baidu.com/item/%E6%AD%A6%E6%B1%89%E8%BD%A8%E9%81%93%E4%BA%A4%E9%80%9A/5860186')"
   ]
  },
  {
   "cell_type": "code",
   "execution_count": 3,
   "metadata": {},
   "outputs": [],
   "source": [
    "def deduplicate(list):\n",
    "    res = []\n",
    "    for i in list:\n",
    "        if i not in res:\n",
    "            res.append(i)\n",
    "    return res"
   ]
  },
  {
   "cell_type": "code",
   "execution_count": 4,
   "metadata": {},
   "outputs": [
    {
     "data": {
      "text/plain": [
       "['%E6%AD%A6%E6%B1%89%E8%BD%A8%E9%81%93%E4%BA%A4%E9%80%9A1%E5%8F%B7%E7%BA%BF',\n",
       " '%E6%AD%A6%E6%B1%89%E8%BD%A8%E9%81%93%E4%BA%A4%E9%80%9A2%E5%8F%B7%E7%BA%BF',\n",
       " '%E6%AD%A6%E6%B1%89%E8%BD%A8%E9%81%93%E4%BA%A4%E9%80%9A3%E5%8F%B7%E7%BA%BF',\n",
       " '%E6%AD%A6%E6%B1%89%E8%BD%A8%E9%81%93%E4%BA%A4%E9%80%9A4%E5%8F%B7%E7%BA%BF',\n",
       " '%E6%AD%A6%E6%B1%89%E8%BD%A8%E9%81%93%E4%BA%A4%E9%80%9A6%E5%8F%B7%E7%BA%BF',\n",
       " '%E6%AD%A6%E6%B1%89%E8%BD%A8%E9%81%93%E4%BA%A4%E9%80%9A7%E5%8F%B7%E7%BA%BF/1937109',\n",
       " '%E6%AD%A6%E6%B1%89%E8%BD%A8%E9%81%93%E4%BA%A4%E9%80%9A8%E5%8F%B7%E7%BA%BF',\n",
       " '%E6%AD%A6%E6%B1%89%E8%BD%A8%E9%81%93%E4%BA%A4%E9%80%9A11%E5%8F%B7%E7%BA%BF/1937320',\n",
       " '%E6%AD%A6%E6%B1%89%E8%BD%A8%E9%81%93%E4%BA%A4%E9%80%9A%E9%98%B3%E9%80%BB%E7%BA%BF']"
      ]
     },
     "execution_count": 4,
     "metadata": {},
     "output_type": "execute_result"
    }
   ],
   "source": [
    "import re\n",
    "lines = r'class=\"coloredcell\"><a target=_blank href=\"/item/((?:[a-zA-Z]|[0-9]|(?:%[0-9a-fA-F][0-9a-fA-F]))+(?:/\\d+)*)\"'\n",
    "lines_pattern = re.compile(lines)\n",
    "likes = deduplicate(re.findall(lines_pattern, text))\n",
    "likes"
   ]
  },
  {
   "cell_type": "code",
   "execution_count": 5,
   "metadata": {},
   "outputs": [],
   "source": [
    "def get_sites(r,text):\n",
    "    keys = ['站名', '车站']\n",
    "    pattern_sites = re.compile(r)\n",
    "    sites = deduplicate(re.findall(pattern_sites, text))\n",
    "    sites_clean = [s for s in sites if s not in keys]\n",
    "    return sites_clean"
   ]
  },
  {
   "cell_type": "code",
   "execution_count": 6,
   "metadata": {},
   "outputs": [],
   "source": [
    "def get_sites_item(sites_, title): # 在地铁站线路的页面有的页面（如7号线）看不到站点链接，没法电进具体站点看信息，故有此函数\n",
    "    res = []\n",
    "    for (index, s) in enumerate(sites_):\n",
    "        if s == '徐家棚站': # 徐家棚站7、8号线不能换乘，所以将名字改为‘徐家棚7号线’和‘徐家棚8号线’\n",
    "            s = s + title\n",
    "        item = {'site': s, 'links': [], 'sub_id': title}\n",
    "        if(index == 0):            \n",
    "            index_p = sites_[index + 1]\n",
    "            if index_p == '徐家棚站': # 徐家棚站7、8号线不能换乘，所以将名字改为‘徐家棚7号线’和‘徐家棚8号线’\n",
    "                index_p = index_p + title\n",
    "            item['links'] = [{'site': index_p, 'sub_id': title}]\n",
    "        elif(index == len(sites_clean) - 1):            \n",
    "            index_m = sites_[index - 1]\n",
    "            if index_m == '徐家棚站': # 徐家棚站7、8号线不能换乘，所以将名字改为‘徐家棚7号线’和‘徐家棚8号线’\n",
    "                index_m = index_m + title\n",
    "            item['links'] = [{'site': index_m, 'sub_id': title}]\n",
    "        else:            \n",
    "            index_p = sites_[index + 1]\n",
    "            if index_p == '徐家棚站': # 徐家棚站7、8号线不能换乘，所以将名字改为‘徐家棚7号线’和‘徐家棚8号线’\n",
    "                index_p = index_p + title                      \n",
    "            index_m = sites_[index - 1]\n",
    "            if index_m == '徐家棚站': # 徐家棚站7、8号线不能换乘，所以将名字改为‘徐家棚7号线’和‘徐家棚8号线’\n",
    "                index_m = index_m + title\n",
    "            item['links'] = [{'site': index_m, 'sub_id': title},{'site': index_p, 'sub_id':title}]\n",
    "        res.append(item)\n",
    "    return res"
   ]
  },
  {
   "cell_type": "code",
   "execution_count": 26,
   "metadata": {
    "scrolled": false
   },
   "outputs": [
    {
     "name": "stdout",
     "output_type": "stream",
     "text": [
      "['天河机场站', '航空总部站', '宋家岗站', '巨龙大道站', '盘龙城站', '宏图大道站', '常青城站', '金银潭站', '常青花园站', '长港路站', '汉口火车站站', '范湖站', '王家墩东站', '青年路站', '中山公园站', '循礼门站', '江汉路站', '积玉桥站', '螃蟹岬站', '小龟山站', '洪山广场站', '中南路站', '宝通寺站', '街道口站', '广埠屯站', '虎泉站', '杨家湾站', '光谷广场站', '珞雄路站', '华中科技大学站', '光谷大道站', '佳园路站', '光谷火车站站', '黄龙山路站', '金融港北站', '秀湖站', '藏龙东街站', '佛祖岭站']\n"
     ]
    }
   ],
   "source": [
    "wh_sub = []\n",
    "for(index, url) in enumerate(likes):\n",
    "    sites_clean = []\n",
    "    sites_text = get_html('https://baike.baidu.com/item/' + url)\n",
    "    www_title = r'<h1 >(.*)</h1>'\n",
    "    pattern_title = re.compile(www_title)\n",
    "    title = ''.join(re.findall(pattern_title, sites_text))\n",
    "    # 地铁详情的网站内容比较乱，所以需要每条线路分开写正则\n",
    "    if(title == '武汉地铁1号线'):\n",
    "        www_sites = r'<tr><td width=\"110\"(?: align=\"left\")* valign=\"top\"><div class=\"para\" label-module=\"para\">([\\u4E00-\\u9FA5]+)</div>'\n",
    "        sites_clean =[s+'站' for s in get_sites(www_sites,sites_text)]        \n",
    "    elif(title == '武汉轨道交通2号线'):\n",
    "        www_sites_1 = r'(?:<td colspan=\"1\" rowspan=\"1\">([\\u4E00-\\u9FA5]+)</td>)|(?:<td valign=\"top\" align=\"left\" width=\"97\"><div class=\"para\" label-module=\"para\">([\\u4E00-\\u9FA5]+)</div>)'\n",
    "        sites_1 = get_sites(www_sites_1, sites_text)\n",
    "        www_sites_2 = r'(?:<td width=\"6\" colspan=\"1\" rowspan=\"1\">([\\u4E00-\\u9FA5]+)</td>)|(?:<td valign=\"top\" align=\"left\" width=\"81\"><div class=\"para\" label-module=\"para\">([\\u4E00-\\u9FA5]+)</div>)|(?:<td valign=\"top\" align=\"left\" width=\"81\">([\\u4E00-\\u9FA5]+)</td>)'\n",
    "        sites_2 = get_sites(www_sites_2, sites_text)\n",
    "        sites = sites_1 + sites_2\n",
    "        sites_clean = []\n",
    "        for s in sites:\n",
    "            if s[0]:\n",
    "                sites_clean.append(s[0])\n",
    "            elif s[1]:\n",
    "                sites_clean.append(s[1])\n",
    "            else:\n",
    "                sites_clean.append(s[2])\n",
    "        sites_clean = [s+'站' for s in sites_clean]\n",
    "        print(sites_clean)\n",
    "    elif(title == '武汉地铁3号线'):\n",
    "        www_sites_1 = r'<td valign=\"top\"><a target=_blank href=\"/item/(?:[a-zA-Z]|[0-9]|(?:%[0-9a-fA-F][0-9a-fA-F]))+(?:/\\d+)*\">([\\u4E00-\\u9FA5]+站)</a></td>'\n",
    "        sites_1 = get_sites(www_sites_1, sites_text)\n",
    "        www_sites_2 = r'<td valign=\"top\" colspan=\"1\" rowspan=\"1\">([\\u4E00-\\u9FA5]+站)</td>'\n",
    "        sites_2 = get_sites(www_sites_2, sites_text)\n",
    "        sites_clean = sites_1 + sites_2\n",
    "    elif(title == '武汉轨道交通4号线'):\n",
    "        www_sites = r'<div class=\"para\" label-module=\"para\"><a target=_blank href=\"/item/(?:[a-zA-Z]|[0-9]|(?:%[0-9a-fA-F][0-9a-fA-F]))+(?:/\\d+)*\"(?: data-lemmaid=\"\\d+\")*>([\\u4E00-\\u9FA5]+站)</a></div>'\n",
    "        sites_clean = get_sites(www_sites, sites_text)\n",
    "    elif(title == '武汉轨道交通6号线'):\n",
    "        www_sites = r'<td(?: width=\"175\")* valign=\"top\"(?: colspan=\"1\" rowspan=\"1\")*>(?:<a target=_blank href=\"/item/(?:[a-zA-Z]|[0-9]|(?:%[0-9a-fA-F][0-9a-fA-F]))+(?:/\\d+)*\"(?: data-lemmaid=\"\\d+\")*>)*([\\u4E00-\\u9FA5]+站)'\n",
    "        sites_clean = get_sites(www_sites, sites_text)\n",
    "    elif(title == '武汉轨道交通7号线'):\n",
    "        www_sites = r'<td width=\"140\" valign=\"top\"(?: colspan=\"1\" rowspan=\"1\")*>([\\u4E00-\\u9FA5]+站)</td>'\n",
    "        sites = get_sites(www_sites, sites_text)\n",
    "        sites_clean = sites[10:] # 从园博园北站开始\n",
    "    elif(title == '武汉轨道交通8号线'):\n",
    "        www_sites = r'<tr><td(?: width=\"131\")* valign=\"top\"(?: colspan=\"1\" rowspan=\"1\")*>([\\u4E00-\\u9FA5]+站)'\n",
    "        sites = get_sites(www_sites, sites_text)\n",
    "        sites_clean = sites[:12]\n",
    "    elif(title == '武汉轨道交通11号线'): # 轨道交通11号线的网址里没有地铁站介绍，故换一下网址\n",
    "        sites_text = get_html('https://baike.baidu.com/item/%E6%AD%A6%E6%B1%89%E5%9C%B0%E9%93%8111%E5%8F%B7%E7%BA%BF') \n",
    "        www_sites = r'<td width=\"165\" valign=\"top\"><div class=\"para\" label-module=\"para\">([\\u4E00-\\u9FA5]+站)</div>'\n",
    "        sites = get_sites(www_sites, sites_text)\n",
    "        sites_clean = []\n",
    "        for s in sites:\n",
    "            if s == '光谷火车站':\n",
    "                sites_clean.append(s + '站') # 不规范的站名“光谷火车站”改为“光谷火车站站”\n",
    "            else:\n",
    "                sites_clean.append(s)\n",
    "    elif(title == '武汉轨道交通阳逻线'):\n",
    "        www_sites = r'</td><td rowspan=\"2\"><div class=\"para\" label-module=\"para\">(.*[^车]站)(?:</a>)*</div>'\n",
    "        sites = get_sites(www_sites, sites_text)\n",
    "        re_ch = r'([\\u4E00-\\u9FA5])'\n",
    "        sites_clean =[]\n",
    "        for s in sites:\n",
    "            site = ''.join(re.findall(re_ch,s))\n",
    "            if site == '新荣站':\n",
    "                site += '阳逻线' # 阳逻线新荣站和1号线新荣站不相交\n",
    "            sites_clean.append(site)\n",
    "    sites_and_links = get_sites_item(sites_clean, title)\n",
    "    wh_sub += sites_and_links"
   ]
  },
  {
   "cell_type": "markdown",
   "metadata": {},
   "source": [
    "### 2-处理数据"
   ]
  },
  {
   "cell_type": "code",
   "execution_count": 27,
   "metadata": {},
   "outputs": [
    {
     "data": {
      "text/plain": [
       "['汉口北站',\n",
       " '滠口新城站',\n",
       " '藤子岗站',\n",
       " '堤角站',\n",
       " '新荣站',\n",
       " '丹水池站',\n",
       " '徐洲新村站',\n",
       " '二七路站',\n",
       " '头道街站',\n",
       " '黄浦路站',\n",
       " '三阳路站',\n",
       " '大智路站',\n",
       " '循礼门站',\n",
       " '友谊路站',\n",
       " '利济北路站',\n",
       " '崇仁路站',\n",
       " '硚口路站',\n",
       " '太平洋站',\n",
       " '宗关站',\n",
       " '汉西一路站',\n",
       " '古田四路站',\n",
       " '古田三路站',\n",
       " '古田二路站',\n",
       " '古田一路站',\n",
       " '舵落口站',\n",
       " '竹叶海站',\n",
       " '额头湾站',\n",
       " '五环大道站',\n",
       " '东吴大道站',\n",
       " '码头潭公园站',\n",
       " '三店站',\n",
       " '径河站',\n",
       " '天河机场站',\n",
       " '航空总部站',\n",
       " '宋家岗站',\n",
       " '巨龙大道站',\n",
       " '盘龙城站',\n",
       " '宏图大道站',\n",
       " '常青城站',\n",
       " '金银潭站',\n",
       " '常青花园站',\n",
       " '长港路站',\n",
       " '汉口火车站站',\n",
       " '范湖站',\n",
       " '王家墩东站',\n",
       " '青年路站',\n",
       " '中山公园站',\n",
       " '江汉路站',\n",
       " '积玉桥站',\n",
       " '螃蟹岬站',\n",
       " '小龟山站',\n",
       " '洪山广场站',\n",
       " '中南路站',\n",
       " '宝通寺站',\n",
       " '街道口站',\n",
       " '广埠屯站',\n",
       " '虎泉站',\n",
       " '杨家湾站',\n",
       " '光谷广场站',\n",
       " '珞雄路站',\n",
       " '华中科技大学站',\n",
       " '光谷大道站',\n",
       " '佳园路站',\n",
       " '光谷火车站站',\n",
       " '黄龙山路站',\n",
       " '金融港北站',\n",
       " '秀湖站',\n",
       " '藏龙东街站',\n",
       " '佛祖岭站',\n",
       " '市民之家站',\n",
       " '后湖大道站',\n",
       " '兴业路站',\n",
       " '二七小路站',\n",
       " '罗家庄站',\n",
       " '赵家条站',\n",
       " '惠济二路站',\n",
       " '香港路站',\n",
       " '菱角湖站',\n",
       " '云飞路站',\n",
       " '武汉商务区站',\n",
       " '双墩站',\n",
       " '龙阳村站',\n",
       " '陶家岭站',\n",
       " '四新大道站',\n",
       " '汉阳客运站',\n",
       " '三角湖站',\n",
       " '体育中心站',\n",
       " '东风公司站',\n",
       " '沌阳大道站',\n",
       " '车城南路站',\n",
       " '枫树一路站',\n",
       " '枫树四路站',\n",
       " '全力二路站',\n",
       " '文岭站',\n",
       " '黄金口站',\n",
       " '孟家铺站',\n",
       " '永安堂站',\n",
       " '玉龙路站',\n",
       " '王家湾站',\n",
       " '十里铺站',\n",
       " '七里庙站',\n",
       " '五里墩站',\n",
       " '汉阳火车站站',\n",
       " '钟家村站',\n",
       " '拦江路站',\n",
       " '复兴路站',\n",
       " '首义路站',\n",
       " '武昌火车站站',\n",
       " '梅苑小区站',\n",
       " '楚河汉街站',\n",
       " '青鱼嘴站',\n",
       " '东亭站',\n",
       " '岳家嘴站',\n",
       " '铁机路站',\n",
       " '罗家港站',\n",
       " '园林路站',\n",
       " '仁和路站',\n",
       " '工业四路站',\n",
       " '杨春湖站',\n",
       " '武汉火车站站',\n",
       " '走马岭站',\n",
       " '高桥一路站',\n",
       " '高桥五路站',\n",
       " '新城十六路站',\n",
       " '新城十二路站',\n",
       " '临空港大道站',\n",
       " '二雅路站',\n",
       " '金银湖停车场站',\n",
       " '金银湖公园站',\n",
       " '金银湖站',\n",
       " '园博园北站',\n",
       " '轻工大学站',\n",
       " '杨汊湖站',\n",
       " '石桥站',\n",
       " '唐家墩站',\n",
       " '三眼桥站',\n",
       " '苗栗路站',\n",
       " '六渡桥站',\n",
       " '汉正街站',\n",
       " '武胜路站',\n",
       " '琴台站',\n",
       " '马鹦路站',\n",
       " '建港站',\n",
       " '前进村站',\n",
       " '国博中心北站',\n",
       " '国博中心南站',\n",
       " '老关村站',\n",
       " '江城大道站',\n",
       " '车城东路站',\n",
       " '园博园站',\n",
       " '常码头站',\n",
       " '取水楼站',\n",
       " '徐家棚站武汉轨道交通7号线',\n",
       " '湖北大学站',\n",
       " '新河街站',\n",
       " '小东门站',\n",
       " '武昌火车站',\n",
       " '瑞安街站',\n",
       " '建安街站',\n",
       " '湖工大站',\n",
       " '板桥站',\n",
       " '野芷湖站',\n",
       " '新路村站',\n",
       " '大花岭街站',\n",
       " '江夏客厅站',\n",
       " '谭鑫培公园站',\n",
       " '北华街站',\n",
       " '纸坊大街站',\n",
       " '青龙山站',\n",
       " '金潭路站',\n",
       " '塔子湖站',\n",
       " '中一路站',\n",
       " '竹叶山站',\n",
       " '徐家棚站武汉轨道交通8号线',\n",
       " '徐东站',\n",
       " '汪家墩站',\n",
       " '梨园站',\n",
       " '湖口站',\n",
       " '光谷同济医院站',\n",
       " '光谷生物园站',\n",
       " '光谷四路站',\n",
       " '光谷五路站',\n",
       " '光谷六路站',\n",
       " '豹澥路站',\n",
       " '光谷七路站',\n",
       " '长岭山站',\n",
       " '未来一路站',\n",
       " '未来三路站',\n",
       " '左岭站',\n",
       " '百步亭花园路站',\n",
       " '新荣站阳逻线',\n",
       " '黄埔新城站',\n",
       " '谌家矶站',\n",
       " '武湖大道站',\n",
       " '高车站',\n",
       " '武湖站',\n",
       " '沙口站',\n",
       " '军民村站',\n",
       " '武生院站',\n",
       " '平江路站',\n",
       " '阳逻开发区站',\n",
       " '施岗站',\n",
       " '金台站']"
      ]
     },
     "execution_count": 27,
     "metadata": {},
     "output_type": "execute_result"
    }
   ],
   "source": [
    "wh_sub_obj = {} # 所有的地铁站站名及其可到的站点\n",
    "wh_sub_list_unique = [] # 所有的地铁站名\n",
    "for site in wh_sub:\n",
    "    if site['site'] not in wh_sub_list_unique:\n",
    "        wh_sub_obj[site['site']] = site['links']\n",
    "        wh_sub_list_unique.append(site['site'])\n",
    "    else:\n",
    "        wh_sub_obj[site['site']] += site['links']\n",
    "wh_sub_list_unique # list打印出来供下文选择start，end参数时用"
   ]
  },
  {
   "cell_type": "markdown",
   "metadata": {},
   "source": [
    "### 3-搜索算法"
   ]
  },
  {
   "cell_type": "code",
   "execution_count": 28,
   "metadata": {},
   "outputs": [],
   "source": [
    "def search(start, end, list_unique, graph, sort_func):\n",
    "    if start not in list_unique:\n",
    "        return '参数不正确'\n",
    "    if end not in list_unique:\n",
    "        return '参数不正确'\n",
    "    pathes = [[{'site': start}]]\n",
    "    seen = []\n",
    "    while pathes:\n",
    "        path = pathes.pop(0)\n",
    "        frontier = path[-1] # 取一条路的最后一个站点作为边界\n",
    "        if frontier['site'] in seen: continue\n",
    "        successors = graph[frontier['site']]\n",
    "        for s in successors:\n",
    "            new_city = s\n",
    "            path_list = [s['site'] for s in path]\n",
    "            if new_city['site'] in path_list: continue # 环形线路，避免死循环\n",
    "            new_path = path + [new_city]\n",
    "            pathes.append(new_path)\n",
    "            if(new_city['site'] == end): return new_path\n",
    "        seen.append(frontier['site'])\n",
    "        pathes = sort_func(pathes) # 给pathes按照指定顺序排序"
   ]
  },
  {
   "cell_type": "code",
   "execution_count": 29,
   "metadata": {},
   "outputs": [],
   "source": [
    "def length_first(list):\n",
    "    return sorted(list, key=len)"
   ]
  },
  {
   "cell_type": "code",
   "execution_count": 30,
   "metadata": {},
   "outputs": [],
   "source": [
    "def transfer(p):\n",
    "    l = [p[1]['sub_id']]\n",
    "    for s in p[2:]:\n",
    "        if s['sub_id'] != l[-1]:\n",
    "            l.append(s['sub_id'])\n",
    "    return len(l)"
   ]
  },
  {
   "cell_type": "code",
   "execution_count": 31,
   "metadata": {},
   "outputs": [],
   "source": [
    "def transfer_first(list):\n",
    "    return sorted(list, key=transfer)"
   ]
  },
  {
   "cell_type": "code",
   "execution_count": 32,
   "metadata": {},
   "outputs": [],
   "source": [
    "def pretty_print(list):\n",
    "    res = list[0]['site']\n",
    "    for s in list[1:]:\n",
    "        line = s['sub_id'].replace('武汉轨道交通','').replace('武汉地铁','')\n",
    "        res += '→[' + line + ']→' + s['site']\n",
    "    return res        "
   ]
  },
  {
   "cell_type": "code",
   "execution_count": 33,
   "metadata": {},
   "outputs": [
    {
     "data": {
      "text/plain": [
       "'佛祖岭站→[2号线]→藏龙东街站→[2号线]→秀湖站→[2号线]→金融港北站→[2号线]→黄龙山路站→[2号线]→光谷火车站站→[2号线]→佳园路站→[2号线]→光谷大道站→[2号线]→华中科技大学站→[2号线]→珞雄路站→[2号线]→光谷广场站→[2号线]→杨家湾站→[2号线]→虎泉站→[2号线]→广埠屯站→[2号线]→街道口站→[2号线]→宝通寺站→[2号线]→中南路站→[2号线]→洪山广场站→[4号线]→楚河汉街站'"
      ]
     },
     "execution_count": 33,
     "metadata": {},
     "output_type": "execute_result"
    }
   ],
   "source": [
    "pretty_print(search('佛祖岭站', '楚河汉街站', wh_sub_list_unique, wh_sub_obj, length_first)) # 最短站点"
   ]
  },
  {
   "cell_type": "code",
   "execution_count": 34,
   "metadata": {},
   "outputs": [
    {
     "data": {
      "text/plain": [
       "'光谷广场站→[2号线]→杨家湾站→[2号线]→虎泉站→[2号线]→广埠屯站→[2号线]→街道口站→[2号线]→宝通寺站→[2号线]→中南路站→[2号线]→洪山广场站→[2号线]→小龟山站→[2号线]→螃蟹岬站→[2号线]→积玉桥站→[2号线]→江汉路站→[2号线]→循礼门站→[2号线]→中山公园站→[2号线]→青年路站→[2号线]→王家墩东站→[7号线]→取水楼站→[7号线]→香港路站'"
      ]
     },
     "execution_count": 34,
     "metadata": {},
     "output_type": "execute_result"
    }
   ],
   "source": [
    "pretty_print(search('光谷广场站', '香港路站', wh_sub_list_unique, wh_sub_obj, transfer_first)) # 最小换乘"
   ]
  },
  {
   "cell_type": "code",
   "execution_count": 35,
   "metadata": {},
   "outputs": [
    {
     "data": {
      "text/plain": [
       "'光谷广场站→[2号线]→杨家湾站→[2号线]→虎泉站→[2号线]→广埠屯站→[2号线]→街道口站→[2号线]→宝通寺站→[2号线]→中南路站→[2号线]→洪山广场站→[2号线]→小龟山站→[2号线]→螃蟹岬站→[2号线]→积玉桥站→[2号线]→江汉路站→[6号线]→大智路站→[1号线]→三阳路站→[7号线]→香港路站'"
      ]
     },
     "execution_count": 35,
     "metadata": {},
     "output_type": "execute_result"
    }
   ],
   "source": [
    "pretty_print(search('光谷广场站', '香港路站', wh_sub_list_unique, wh_sub_obj, length_first)) # 最短站点"
   ]
  },
  {
   "cell_type": "code",
   "execution_count": 42,
   "metadata": {
    "scrolled": true
   },
   "outputs": [
    {
     "data": {
      "text/plain": [
       "'左岭站→[11号线]→未来三路站→[11号线]→未来一路站→[11号线]→长岭山站→[11号线]→光谷七路站→[11号线]→豹澥路站→[11号线]→光谷六路站→[11号线]→光谷五路站→[11号线]→光谷四路站→[11号线]→光谷生物园站→[11号线]→光谷同济医院站→[11号线]→湖口站→[11号线]→光谷火车站站→[2号线]→佳园路站→[2号线]→光谷大道站→[2号线]→华中科技大学站→[2号线]→珞雄路站→[2号线]→光谷广场站→[2号线]→杨家湾站→[2号线]→虎泉站→[2号线]→广埠屯站→[2号线]→街道口站→[2号线]→宝通寺站→[2号线]→中南路站→[2号线]→洪山广场站→[2号线]→小龟山站→[2号线]→螃蟹岬站→[2号线]→积玉桥站→[2号线]→江汉路站→[6号线]→大智路站→[1号线]→三阳路站→[1号线]→黄浦路站→[8号线]→赵家条站→[3号线]→罗家庄站→[3号线]→二七小路站→[3号线]→兴业路站→[3号线]→后湖大道站→[阳逻线]→百步亭花园路站→[阳逻线]→新荣站阳逻线→[阳逻线]→黄埔新城站→[阳逻线]→谌家矶站→[阳逻线]→武湖大道站→[阳逻线]→高车站→[阳逻线]→武湖站→[阳逻线]→沙口站→[阳逻线]→军民村站→[阳逻线]→武生院站→[阳逻线]→平江路站→[阳逻线]→阳逻开发区站→[阳逻线]→施岗站→[阳逻线]→金台站'"
      ]
     },
     "execution_count": 42,
     "metadata": {},
     "output_type": "execute_result"
    }
   ],
   "source": [
    "pretty_print(search('左岭站', '金台站', wh_sub_list_unique, wh_sub_obj, length_first)) # 最短站点"
   ]
  },
  {
   "cell_type": "code",
   "execution_count": 43,
   "metadata": {},
   "outputs": [
    {
     "data": {
      "text/plain": [
       "'东风公司站→[3号线]→体育中心站→[3号线]→三角湖站→[3号线]→汉阳客运站→[3号线]→四新大道站→[3号线]→陶家岭站→[3号线]→龙阳村站→[3号线]→宗关站→[3号线]→双墩站→[3号线]→武汉商务区站→[7号线]→王家墩东站→[7号线]→取水楼站→[7号线]→香港路站→[3号线]→惠济二路站→[3号线]→赵家条站→[3号线]→罗家庄站→[3号线]→二七小路站→[3号线]→兴业路站→[3号线]→后湖大道站→[阳逻线]→百步亭花园路站→[阳逻线]→新荣站阳逻线→[阳逻线]→黄埔新城站→[阳逻线]→谌家矶站→[阳逻线]→武湖大道站→[阳逻线]→高车站→[阳逻线]→武湖站→[阳逻线]→沙口站→[阳逻线]→军民村站→[阳逻线]→武生院站→[阳逻线]→平江路站→[阳逻线]→阳逻开发区站→[阳逻线]→施岗站→[阳逻线]→金台站'"
      ]
     },
     "execution_count": 43,
     "metadata": {},
     "output_type": "execute_result"
    }
   ],
   "source": [
    "pretty_print(search('东风公司站', '金台站', wh_sub_list_unique, wh_sub_obj, length_first)) # 最短站点"
   ]
  },
  {
   "cell_type": "code",
   "execution_count": 44,
   "metadata": {},
   "outputs": [
    {
     "data": {
      "text/plain": [
       "'左岭站→[11号线]→未来三路站→[11号线]→未来一路站→[11号线]→长岭山站→[11号线]→光谷七路站→[11号线]→豹澥路站→[11号线]→光谷六路站→[11号线]→光谷五路站→[11号线]→光谷四路站→[11号线]→光谷生物园站→[11号线]→光谷同济医院站→[11号线]→湖口站→[11号线]→光谷火车站站→[2号线]→佳园路站→[2号线]→光谷大道站→[2号线]→华中科技大学站→[2号线]→珞雄路站→[2号线]→光谷广场站→[2号线]→杨家湾站→[2号线]→虎泉站→[2号线]→广埠屯站→[2号线]→街道口站→[2号线]→宝通寺站→[2号线]→中南路站→[2号线]→洪山广场站→[2号线]→小龟山站→[2号线]→螃蟹岬站→[2号线]→积玉桥站→[2号线]→江汉路站→[2号线]→循礼门站→[2号线]→中山公园站→[2号线]→青年路站→[2号线]→王家墩东站→[2号线]→范湖站→[2号线]→汉口火车站站→[2号线]→长港路站→[2号线]→常青花园站→[2号线]→金银潭站→[2号线]→常青城站→[2号线]→宏图大道站→[3号线]→市民之家站→[3号线]→后湖大道站→[阳逻线]→百步亭花园路站→[阳逻线]→新荣站阳逻线→[阳逻线]→黄埔新城站→[阳逻线]→谌家矶站→[阳逻线]→武湖大道站→[阳逻线]→高车站→[阳逻线]→武湖站→[阳逻线]→沙口站→[阳逻线]→军民村站→[阳逻线]→武生院站→[阳逻线]→平江路站→[阳逻线]→阳逻开发区站→[阳逻线]→施岗站→[阳逻线]→金台站'"
      ]
     },
     "execution_count": 44,
     "metadata": {},
     "output_type": "execute_result"
    }
   ],
   "source": [
    "pretty_print(search('左岭站', '金台站', wh_sub_list_unique, wh_sub_obj, transfer_first)) # 最短站点"
   ]
  },
  {
   "cell_type": "code",
   "execution_count": 45,
   "metadata": {},
   "outputs": [
    {
     "data": {
      "text/plain": [
       "'汉口北站→[1号线]→滠口新城站→[1号线]→藤子岗站→[1号线]→堤角站→[1号线]→新荣站→[1号线]→丹水池站→[1号线]→徐洲新村站→[1号线]→二七路站→[1号线]→头道街站→[1号线]→黄浦路站→[1号线]→三阳路站→[1号线]→大智路站→[1号线]→循礼门站→[1号线]→友谊路站→[1号线]→利济北路站→[1号线]→崇仁路站→[1号线]→硚口路站→[1号线]→太平洋站→[1号线]→宗关站→[1号线]→汉西一路站→[1号线]→古田四路站→[1号线]→古田三路站→[1号线]→古田二路站→[1号线]→古田一路站→[1号线]→舵落口站→[1号线]→竹叶海站→[1号线]→额头湾站→[1号线]→五环大道站→[1号线]→东吴大道站→[1号线]→码头潭公园站→[6号线]→临空港大道站→[6号线]→二雅路站→[6号线]→金银湖停车场站→[6号线]→金银湖公园站→[6号线]→金银湖站'"
      ]
     },
     "execution_count": 45,
     "metadata": {},
     "output_type": "execute_result"
    }
   ],
   "source": [
    "pretty_print(search('汉口北站', '金银湖站', wh_sub_list_unique, wh_sub_obj, transfer_first)) # 最短站点"
   ]
  },
  {
   "cell_type": "code",
   "execution_count": 46,
   "metadata": {},
   "outputs": [
    {
     "data": {
      "text/plain": [
       "'左岭站→[11号线]→未来三路站→[11号线]→未来一路站→[11号线]→长岭山站→[11号线]→光谷七路站→[11号线]→豹澥路站→[11号线]→光谷六路站→[11号线]→光谷五路站→[11号线]→光谷四路站→[11号线]→光谷生物园站→[11号线]→光谷同济医院站→[11号线]→湖口站→[11号线]→光谷火车站站→[2号线]→佳园路站→[2号线]→光谷大道站→[2号线]→华中科技大学站→[2号线]→珞雄路站→[2号线]→光谷广场站→[2号线]→杨家湾站→[2号线]→虎泉站→[2号线]→广埠屯站→[2号线]→街道口站→[2号线]→宝通寺站→[2号线]→中南路站→[2号线]→洪山广场站→[2号线]→小龟山站→[2号线]→螃蟹岬站→[2号线]→积玉桥站→[2号线]→江汉路站→[2号线]→循礼门站→[2号线]→中山公园站→[2号线]→青年路站→[2号线]→王家墩东站→[7号线]→取水楼站→[7号线]→香港路站'"
      ]
     },
     "execution_count": 46,
     "metadata": {},
     "output_type": "execute_result"
    }
   ],
   "source": [
    "pretty_print(search('左岭站', '香港路站', wh_sub_list_unique, wh_sub_obj, transfer_first)) # 最短站点"
   ]
  },
  {
   "cell_type": "code",
   "execution_count": null,
   "metadata": {},
   "outputs": [],
   "source": []
  }
 ],
 "metadata": {
  "kernelspec": {
   "display_name": "Python 3",
   "language": "python",
   "name": "python3"
  },
  "language_info": {
   "codemirror_mode": {
    "name": "ipython",
    "version": 3
   },
   "file_extension": ".py",
   "mimetype": "text/x-python",
   "name": "python",
   "nbconvert_exporter": "python",
   "pygments_lexer": "ipython3",
   "version": "3.7.3"
  }
 },
 "nbformat": 4,
 "nbformat_minor": 2
}
